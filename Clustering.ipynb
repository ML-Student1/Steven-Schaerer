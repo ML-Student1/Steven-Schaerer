{
  "nbformat": 4,
  "nbformat_minor": 0,
  "metadata": {
    "colab": {
      "name": "Clustering.ipynb",
      "provenance": [],
      "authorship_tag": "ABX9TyMBtLPN574eg4gjfFUCdtMQ",
      "include_colab_link": true
    },
    "kernelspec": {
      "name": "python3",
      "display_name": "Python 3"
    },
    "language_info": {
      "name": "python"
    }
  },
  "cells": [
    {
      "cell_type": "markdown",
      "metadata": {
        "id": "view-in-github",
        "colab_type": "text"
      },
      "source": [
        "<a href=\"https://colab.research.google.com/github/ML-Student1/Steven-Schaerer/blob/Machine-Learning/Clustering.ipynb\" target=\"_parent\"><img src=\"https://colab.research.google.com/assets/colab-badge.svg\" alt=\"Open In Colab\"/></a>"
      ]
    },
    {
      "cell_type": "code",
      "metadata": {
        "id": "43DNul0OW1p8"
      },
      "source": [
        "#Clustering - Used when you have a bunch of input information or features without a lot of output information.  Finds clusters of like data points and tells you the locations of those clusters.\n",
        "#Theoretically, data points that are in the same group should have similar properties and/or features while data points in different groups have highly dissimilar properties and/or features."
      ],
      "execution_count": null,
      "outputs": []
    },
    {
      "cell_type": "markdown",
      "metadata": {
        "id": "mDqpv64BaWso"
      },
      "source": [
        "K means algortithm\n",
        "1. Randomly pick K points to place K centroids\n",
        "2. Assign all of the data points to the centroids by distance.  Closest centroid to a point is the one it is assigned to.\n",
        "3. Average all of the points belonging to each centroid to find the middle of those clusters.  \n",
        "4. Reassign every point once again to the closest centroid.\n",
        "5. Repeat steps 3-4 until no point changes which centroid it belongs to."
      ]
    },
    {
      "cell_type": "code",
      "metadata": {
        "id": "ZXeI5j4KbBWe"
      },
      "source": [
        "#Hidden Markov Models is a finite set of states, each of which is associated with a probability distribution.  Transitions among states governed by a set of probabilities called transition probabilities.\n",
        "#Used to predict future events or states based on past events...predicting weather."
      ],
      "execution_count": null,
      "outputs": []
    },
    {
      "cell_type": "code",
      "metadata": {
        "id": "R48LavwAd_x5"
      },
      "source": [
        "%tensorflow_version 2.x"
      ],
      "execution_count": 1,
      "outputs": []
    },
    {
      "cell_type": "code",
      "metadata": {
        "id": "AieOEzEggr0u"
      },
      "source": [
        "import tensorflow_probability as tfp #different module from tensorflow this time\n",
        "import tensorflow as tf"
      ],
      "execution_count": 2,
      "outputs": []
    },
    {
      "cell_type": "code",
      "metadata": {
        "id": "Fu8-DO0CgwCX"
      },
      "source": [
        "#Cold days = 0, hot days = 1.  2. Day 1 = 80% chance it's cold.  Cold day has 30% chance being followed by hot day.  Hot day has 20% chance being followed by cold day.\n",
        "# Each day temp distributed with mean and standard d 0 and 5 (cold day) 15 and 10 (hot day)"
      ],
      "execution_count": null,
      "outputs": []
    },
    {
      "cell_type": "code",
      "metadata": {
        "id": "-RuXtEVahYL2"
      },
      "source": [
        "#Distribution variables to model the system\n",
        "tfd = tfp.distributions # load tf probability distributions module\n",
        "initial_distribution = tfd.Categorical(probs=[0.8, 0.2]) #2 above, categorical defines distribution\n",
        "transition_distribution = tfd.Categorical(probs=[[0.7, 0.3], [0.2, 0.8]]) #3 and 4 above\n",
        "observation_distribution = tfd.Normal(loc=[0., 15.], scale=[5., 10.]) # loc here represents mean, and scale is SD, dots are float values (precision/decimal) as opposed to integers.\n"
      ],
      "execution_count": 7,
      "outputs": []
    },
    {
      "cell_type": "code",
      "metadata": {
        "id": "WRJBsnmbkAjT"
      },
      "source": [
        "#Creating the model\n",
        "model = tfd.HiddenMarkovModel(\n",
        "    initial_distribution=initial_distribution,\n",
        "    transition_distribution=transition_distribution,\n",
        "    observation_distribution=observation_distribution,\n",
        "    num_steps=7) #How many steps (days here) we step through this probability cycle and run the model, trying to predict average temp on each day."
      ],
      "execution_count": 8,
      "outputs": []
    },
    {
      "cell_type": "code",
      "metadata": {
        "colab": {
          "base_uri": "https://localhost:8080/"
        },
        "id": "F-V9ZwNKlPib",
        "outputId": "9087420c-aa41-4c54-e256-aecb4bb4fbcd"
      },
      "source": [
        "#Expected temps...\n",
        "mean = model.mean() #evaluate part of graph, from within a session to see value of tensor aka calculate probability from model.  Partially defined tensor\n",
        "\n",
        "with tf.compat.v1.Session() as sess: #new version of tensorflow, need to use tf.compat.v1.Session() rather than just tf.Session()...\n",
        "  print(mean.numpy())"
      ],
      "execution_count": 10,
      "outputs": [
        {
          "output_type": "stream",
          "name": "stdout",
          "text": [
            "[2.9999998 5.9999995 7.4999995 8.25      8.625001  8.812501  8.90625  ]\n"
          ]
        }
      ]
    },
    {
      "cell_type": "code",
      "metadata": {
        "id": "kItMTYmmluIH"
      },
      "source": [
        ""
      ],
      "execution_count": null,
      "outputs": []
    }
  ]
}