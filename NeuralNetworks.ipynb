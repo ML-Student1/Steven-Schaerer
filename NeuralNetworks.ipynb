{
  "nbformat": 4,
  "nbformat_minor": 0,
  "metadata": {
    "colab": {
      "name": "NeuralNetworks.ipynb",
      "provenance": [],
      "authorship_tag": "ABX9TyP4b5p+VPEUrtCvCBxKJ+vT",
      "include_colab_link": true
    },
    "kernelspec": {
      "name": "python3",
      "display_name": "Python 3"
    },
    "language_info": {
      "name": "python"
    }
  },
  "cells": [
    {
      "cell_type": "markdown",
      "metadata": {
        "id": "view-in-github",
        "colab_type": "text"
      },
      "source": [
        "<a href=\"https://colab.research.google.com/github/ML-Student1/Steven-Schaerer/blob/Machine-Learning/NeuralNetworks.ipynb\" target=\"_parent\"><img src=\"https://colab.research.google.com/assets/colab-badge.svg\" alt=\"Open In Colab\"/></a>"
      ]
    },
    {
      "cell_type": "code",
      "metadata": {
        "id": "w5xjl98T7JzT"
      },
      "source": [
        "# Optimizer - implements backpropagation algorithm\n",
        "# Gradient Descent\n",
        "# Stochastic Gradient Descent \n",
        "# Mini-Batch Gradient Descent\n",
        "# Momentum\n",
        "# Nesterov Accelerated Gradient"
      ],
      "execution_count": null,
      "outputs": []
    },
    {
      "cell_type": "code",
      "metadata": {
        "id": "OsVmlwEe70kU"
      },
      "source": [
        "#Imports\n",
        "import tensorflow as tf\n",
        "from tensorflow import keras\n",
        "#Helper Libraries:\n",
        "import numpy as np\n",
        "import matplotlib.pyplot as plt"
      ],
      "execution_count": 1,
      "outputs": []
    },
    {
      "cell_type": "code",
      "metadata": {
        "colab": {
          "base_uri": "https://localhost:8080/"
        },
        "id": "mq22honh8Zga",
        "outputId": "76bd12d1-29e3-4c2b-be3b-e988797c0ff8"
      },
      "source": [
        "#Dataset - Fashion Dataset MNIST, 60,000 images for training & 10,000 images for validation/testing \"pixl data of clothing articles\"\n",
        "fashion_mnist = keras.datasets.fashion_mnist #load dataset\n",
        "(train_images, train_labels), (test_images, test_labels) = fashion_mnist.load_data() #split into testing and training"
      ],
      "execution_count": 3,
      "outputs": [
        {
          "output_type": "stream",
          "name": "stdout",
          "text": [
            "Downloading data from https://storage.googleapis.com/tensorflow/tf-keras-datasets/train-labels-idx1-ubyte.gz\n",
            "32768/29515 [=================================] - 0s 0us/step\n",
            "40960/29515 [=========================================] - 0s 0us/step\n",
            "Downloading data from https://storage.googleapis.com/tensorflow/tf-keras-datasets/train-images-idx3-ubyte.gz\n",
            "26427392/26421880 [==============================] - 0s 0us/step\n",
            "26435584/26421880 [==============================] - 0s 0us/step\n",
            "Downloading data from https://storage.googleapis.com/tensorflow/tf-keras-datasets/t10k-labels-idx1-ubyte.gz\n",
            "16384/5148 [===============================================================================================] - 0s 0us/step\n",
            "Downloading data from https://storage.googleapis.com/tensorflow/tf-keras-datasets/t10k-images-idx3-ubyte.gz\n",
            "4423680/4422102 [==============================] - 0s 0us/step\n",
            "4431872/4422102 [==============================] - 0s 0us/step\n"
          ]
        }
      ]
    },
    {
      "cell_type": "code",
      "metadata": {
        "colab": {
          "base_uri": "https://localhost:8080/"
        },
        "id": "ws40WyVBDORj",
        "outputId": "891e87ec-62ca-4bf4-fcd3-2977a4e70eb7"
      },
      "source": [
        "train_images.shape #28 rows x 28 pixels or 784 pixels in total"
      ],
      "execution_count": 6,
      "outputs": [
        {
          "output_type": "execute_result",
          "data": {
            "text/plain": [
              "(60000, 28, 28)"
            ]
          },
          "metadata": {},
          "execution_count": 6
        }
      ]
    },
    {
      "cell_type": "code",
      "metadata": {
        "colab": {
          "base_uri": "https://localhost:8080/"
        },
        "id": "JT4_SHdKDRqt",
        "outputId": "76e8aa53-6a24-4611-aa51-1f9b0d44b714"
      },
      "source": [
        "type(train_images) #type of dataframe"
      ],
      "execution_count": 7,
      "outputs": [
        {
          "output_type": "execute_result",
          "data": {
            "text/plain": [
              "numpy.ndarray"
            ]
          },
          "metadata": {},
          "execution_count": 7
        }
      ]
    },
    {
      "cell_type": "code",
      "metadata": {
        "colab": {
          "base_uri": "https://localhost:8080/"
        },
        "id": "8M3hE79mECq2",
        "outputId": "0305d32d-7c99-41c4-ab95-157f9160f624"
      },
      "source": [
        "train_images[0,23,23] #let's have a look at one pixel, image 0.  Gray scale value of pixel (0 black, 255 white)"
      ],
      "execution_count": 8,
      "outputs": [
        {
          "output_type": "execute_result",
          "data": {
            "text/plain": [
              "194"
            ]
          },
          "metadata": {},
          "execution_count": 8
        }
      ]
    },
    {
      "cell_type": "code",
      "metadata": {
        "colab": {
          "base_uri": "https://localhost:8080/"
        },
        "id": "rZEmrPKCEa2N",
        "outputId": "7c635148-ff2b-4364-c405-f01eb26a7c0d"
      },
      "source": [
        "train_labels[:10] #first 10 training labels"
      ],
      "execution_count": 11,
      "outputs": [
        {
          "output_type": "execute_result",
          "data": {
            "text/plain": [
              "array([9, 0, 0, 3, 0, 2, 7, 2, 5, 5], dtype=uint8)"
            ]
          },
          "metadata": {},
          "execution_count": 11
        }
      ]
    },
    {
      "cell_type": "code",
      "metadata": {
        "colab": {
          "base_uri": "https://localhost:8080/",
          "height": 265
        },
        "id": "Xv5OlJBDE1CF",
        "outputId": "b00e77e9-1e5d-46fe-820a-c3ae3ed20525"
      },
      "source": [
        "# Labels range from 0 - 9, with each integer representing a specific article of clothing.  Create an array of labels to indicate which is which:\n",
        "class_names = ['T-shirt/top', 'Trouser', 'Pullover', 'Dress', 'Coat',\n",
        "               'Sandal', 'Shirt', 'Sneaker', 'Bag', 'Ankle Boot']\n",
        "\n",
        "#Explore images\n",
        "\n",
        "plt.figure() #make figure\n",
        "plt.imshow(train_images[1]) #integer, relevant picture, show image\n",
        "plt.colorbar() #colorgradient\n",
        "plt.grid(False) #no grid\n",
        "plt.show()"
      ],
      "execution_count": 13,
      "outputs": [
        {
          "output_type": "display_data",
          "data": {
            "image/png": "[encoded data removed]",
            "text/plain": [
              "<Figure size 432x288 with 2 Axes>"
            ]
          },
          "metadata": {
            "needs_background": "light"
          }
        }
      ]
    },
    {
      "cell_type": "code",
      "metadata": {
        "id": "0kJlUbJrF58M"
      },
      "source": [
        "#Data Preprossesing - missing data, unknowns, etc.  Input values between 0 or -1 and 1...neural networks start with random weights/biases in between 0 and 1.  \n",
        "# Big input values and tiny weights are a mismatch insofar as classification is concerned, reduce complexity by reducing scale, aka input values between -1 or 0 and 1.  Do for both, train & test\n",
        "train_images = train_images / 255.0\n",
        "test_images = test_images / 255.0"
      ],
      "execution_count": 14,
      "outputs": []
    },
    {
      "cell_type": "code",
      "metadata": {
        "id": "HRO8qdYYHYd6"
      },
      "source": [
        "# Building the Model - keras sequential model\n",
        "\n",
        "model = keras.Sequential([ #sequential - basic neural network, pass info from left to right\n",
        "                          keras.layers.Flatten(input_shape=(28, 28)), #input layer (1) - 784 neurons, 'flatten' layer (28 x 28) denotes input shape, each pixel associated with 1 neuron\n",
        "                          keras.layers.Dense(128, activation='relu'), #hidden layer (2) - 'dense' denotes layer fully connected and each neuoron from prev layer to each neuron in this layer.\n",
        "                          keras.layers.Dense(10, activation='softmax') #output layer (3) # 10 output neurons, activation softmax, 10 = output should have as many classes as inputs we're predicting for.\n",
        "])"
      ],
      "execution_count": 15,
      "outputs": []
    },
    {
      "cell_type": "code",
      "metadata": {
        "colab": {
          "base_uri": "https://localhost:8080/"
        },
        "id": "M_iRPMBvKSg1",
        "outputId": "4a79b8aa-500c-4f0a-cca7-e6917553a19a"
      },
      "source": [
        "#Compile the model - define loss function, optimizer and metrics we would like to track.\n",
        "\n",
        "model.compile(optimizer='adam', #algo for gradient descent\n",
        "              loss='sparse_categorical_crossentropy',\n",
        "              metrics=['accuracy']) # Output we want from network\n",
        "\n",
        "#Training the model\n",
        "\n",
        "model.fit(train_images, train_labels, epochs=10) #fit model to training data, labels & epochs. #accuracy on training data, not testing data.\n"
      ],
      "execution_count": 19,
      "outputs": [
        {
          "output_type": "stream",
          "name": "stdout",
          "text": [
            "Epoch 1/10\n",
            "1875/1875 [==============================] - 5s 2ms/step - loss: 0.4979 - accuracy: 0.8246\n",
            "Epoch 2/10\n",
            "1875/1875 [==============================] - 4s 2ms/step - loss: 0.3764 - accuracy: 0.8651\n",
            "Epoch 3/10\n",
            "1875/1875 [==============================] - 4s 2ms/step - loss: 0.3349 - accuracy: 0.8783\n",
            "Epoch 4/10\n",
            "1875/1875 [==============================] - 4s 2ms/step - loss: 0.3101 - accuracy: 0.8863\n",
            "Epoch 5/10\n",
            "1875/1875 [==============================] - 4s 2ms/step - loss: 0.2931 - accuracy: 0.8915\n",
            "Epoch 6/10\n",
            "1875/1875 [==============================] - 4s 2ms/step - loss: 0.2785 - accuracy: 0.8960\n",
            "Epoch 7/10\n",
            "1875/1875 [==============================] - 4s 2ms/step - loss: 0.2684 - accuracy: 0.8995\n",
            "Epoch 8/10\n",
            "1875/1875 [==============================] - 4s 2ms/step - loss: 0.2578 - accuracy: 0.9041\n",
            "Epoch 9/10\n",
            "1875/1875 [==============================] - 4s 2ms/step - loss: 0.2492 - accuracy: 0.9063\n",
            "Epoch 10/10\n",
            "1875/1875 [==============================] - 4s 2ms/step - loss: 0.2401 - accuracy: 0.9105\n"
          ]
        },
        {
          "output_type": "execute_result",
          "data": {
            "text/plain": [
              "<keras.callbacks.History at 0x7f4dd8f9f290>"
            ]
          },
          "metadata": {},
          "execution_count": 19
        }
      ]
    },
    {
      "cell_type": "code",
      "metadata": {
        "colab": {
          "base_uri": "https://localhost:8080/"
        },
        "id": "DGZawRjWLIVl",
        "outputId": "9075335c-8b0c-40d7-bcf5-b1310fb6abdb"
      },
      "source": [
        "#Evaluating the model - use builtin method from keras\n",
        "\n",
        "test_loss, test_acc = model.evaluate(test_images, test_labels, verbose=1) # verbose is, are we looking at output or not?  How much info are we seeing as model evaluates.  \n",
        "print('Test accuracy:', test_acc) #overfit model vs train data.  Should generalize properly for new data.  Would need to change architecture, change epochs, etc. 'Hyperparameter tuning'"
      ],
      "execution_count": 20,
      "outputs": [
        {
          "output_type": "stream",
          "name": "stdout",
          "text": [
            "313/313 [==============================] - 1s 2ms/step - loss: 0.3387 - accuracy: 0.8821\n",
            "Test accuracy: 0.882099986076355\n"
          ]
        }
      ]
    },
    {
      "cell_type": "code",
      "metadata": {
        "colab": {
          "base_uri": "https://localhost:8080/"
        },
        "id": "ymSwNNlsMnG9",
        "outputId": "bfd7245b-f9ae-4c44-ad71-7c6d0e9a935e"
      },
      "source": [
        "#Making predictions - pass an array of data in the form we've specified in input layer to .predict() method\n",
        "\n",
        "predictions = model.predict(test_images) #test_images array of images to predict on\n",
        "print('Test accuracy:', test_acc)"
      ],
      "execution_count": 27,
      "outputs": [
        {
          "output_type": "stream",
          "name": "stdout",
          "text": [
            "Test accuracy: 0.882099986076355\n"
          ]
        }
      ]
    },
    {
      "cell_type": "code",
      "metadata": {
        "colab": {
          "base_uri": "https://localhost:8080/"
        },
        "id": "8QMAS2taNyKt",
        "outputId": "fd78479b-d4d3-479f-f443-63238f100344"
      },
      "source": [
        "predictions = model.predict(test_images)\n",
        "print(predictions[0]) #prediction for test image 0, array, prob distribution calculated on output layer for image 0."
      ],
      "execution_count": 30,
      "outputs": [
        {
          "output_type": "stream",
          "name": "stdout",
          "text": [
            "[3.1923530e-05 1.6756987e-10 4.1399694e-08 2.8523768e-08 6.9051787e-08\n",
            " 5.3761160e-05 3.8154376e-05 1.5206653e-02 1.4674367e-04 9.8452270e-01]\n"
          ]
        }
      ]
    },
    {
      "cell_type": "code",
      "metadata": {
        "colab": {
          "base_uri": "https://localhost:8080/"
        },
        "id": "W4wqrVVoOWat",
        "outputId": "3a835b85-c4f2-4aa1-b9d3-cd05e5a3ca0a"
      },
      "source": [
        "predictions = model.predict(test_images)\n",
        "print(np.argmax(predictions[0])) #argmax returns index of max value in list, least negative or 9.96699e-01.  Should return 9...should be ankle boot."
      ],
      "execution_count": 32,
      "outputs": [
        {
          "output_type": "stream",
          "name": "stdout",
          "text": [
            "9\n"
          ]
        }
      ]
    },
    {
      "cell_type": "code",
      "metadata": {
        "colab": {
          "base_uri": "https://localhost:8080/",
          "height": 286
        },
        "id": "hm52TEFKPQtl",
        "outputId": "7dfb1cfc-331a-4e0b-bdb8-415f397157a1"
      },
      "source": [
        "predictions = model.predict(test_images)\n",
        "print(class_names[np.argmax(predictions[1])])\n",
        "plt.figure()\n",
        "plt.imshow(test_images[1])\n",
        "plt.colorbar()\n",
        "plt.grid(False)\n",
        "plt.show()"
      ],
      "execution_count": 37,
      "outputs": [
        {
          "output_type": "stream",
          "name": "stdout",
          "text": [
            "Pullover\n"
          ]
        },
        {
          "output_type": "display_data",
          "data": {
            "image/png": "[encoded data removed]",
            "text/plain": [
              "<Figure size 432x288 with 2 Axes>"
            ]
          },
          "metadata": {
            "needs_background": "light"
          }
        }
      ]
    },
    {
      "cell_type": "code",
      "metadata": {
        "colab": {
          "base_uri": "https://localhost:8080/",
          "height": 312
        },
        "id": "dxC_7mEOPkgr",
        "outputId": "1ef19375-b993-4f50-a011-e147d0a695f3"
      },
      "source": [
        "#Verifying predictions - verify predictions with simple visuals\n",
        "\n",
        "COLOR = 'white'\n",
        "plt.rcParams['text.color'] = COLOR\n",
        "plt.rcParams['axes.labelcolor'] = COLOR\n",
        "\n",
        "def predict(model, image, correct_label):\n",
        "  class_names = ['T-shirt/top', 'Trouser', 'Pullover', 'Dress', 'Coat',\n",
        "               'Sandal', 'Shirt', 'Sneaker', 'Bag', 'Ankle Boot']\n",
        "  prediction = model.predict(np.array([image]))\n",
        "  predicted_class = class_names[np.argmax(prediction)]\n",
        "\n",
        "  show_image(image, class_names[correct_label], predicted_class)\n",
        "\n",
        "def show_image(img, label, guess):\n",
        "  plt.figure()\n",
        "  plt.imshow(img, cmap=plt.cm.binary)\n",
        "  plt.title(\"Expected: \" + label)\n",
        "  plt.xlabel(\"Guess: \" + guess)\n",
        "  plt.colorbar()\n",
        "  plt.grid(False)\n",
        "  plt.show()\n",
        "\n",
        "def get_number():\n",
        "  while True:\n",
        "    num = input(\"Pick a number: \")\n",
        "    if num.isdigit():\n",
        "      num = int(num)\n",
        "      if 0 <= num <= 1000:\n",
        "        return int(num)\n",
        "      else:\n",
        "        print(\"Try again...\")\n",
        "\n",
        "num = get_number()\n",
        "image = test_images[num]\n",
        "label = test_labels[num]\n",
        "predict(model, image, label)"
      ],
      "execution_count": 40,
      "outputs": [
        {
          "name": "stdout",
          "output_type": "stream",
          "text": [
            "Pick a number: 1\n"
          ]
        },
        {
          "output_type": "display_data",
          "data": {
            "image/png": "[encoded data removed]",
            "text/plain": [
              "<Figure size 432x288 with 2 Axes>"
            ]
          },
          "metadata": {
            "needs_background": "light"
          }
        }
      ]
    },
    {
      "cell_type": "code",
      "metadata": {
        "id": "qm7ei2nJQcQq"
      },
      "source": [
        ""
      ],
      "execution_count": null,
      "outputs": []
    }
  ]
}