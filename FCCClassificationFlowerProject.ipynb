{
  "nbformat": 4,
  "nbformat_minor": 0,
  "metadata": {
    "colab": {
      "name": "FCCClassificationFlowerProject.ipynb",
      "provenance": [],
      "authorship_tag": "ABX9TyMAn9akNhk0AAIVtY9ieezF",
      "include_colab_link": true
    },
    "kernelspec": {
      "name": "python3",
      "display_name": "Python 3"
    },
    "language_info": {
      "name": "python"
    }
  },
  "cells": [
    {
      "cell_type": "markdown",
      "metadata": {
        "id": "view-in-github",
        "colab_type": "text"
      },
      "source": [
        "<a href=\"https://colab.research.google.com/github/ML-Student1/Steven-Schaerer/blob/Machine-Learning/FCCClassificationFlowerProject.ipynb\" target=\"_parent\"><img src=\"https://colab.research.google.com/assets/colab-badge.svg\" alt=\"Open In Colab\"/></a>"
      ]
    },
    {
      "cell_type": "code",
      "metadata": {
        "id": "yuv29EYkQQsy"
      },
      "source": [
        "#DS separates flowers into 3 different classes of species (Setosa, Versicolor, Virginica) Flower info: Sepal Length, Sepal Width, Petal Length, Petal Width\n",
        "#Given flower info, which flower class is it most likely to be?"
      ],
      "execution_count": null,
      "outputs": []
    },
    {
      "cell_type": "code",
      "metadata": {
        "colab": {
          "base_uri": "https://localhost:8080/"
        },
        "id": "Sruu02aw02qt",
        "outputId": "31aff717-94ef-4c60-96d5-83cd99280644"
      },
      "source": [
        "%tensorflow_version 2.x #Only required if you're in a notebook"
      ],
      "execution_count": 23,
      "outputs": [
        {
          "output_type": "stream",
          "name": "stdout",
          "text": [
            "`%tensorflow_version` only switches the major version: 1.x or 2.x.\n",
            "You set: `2.x #Only required if you're in a notebook`. This will be interpreted as: `2.x`.\n",
            "\n",
            "\n",
            "TensorFlow is already loaded. Please restart the runtime to change versions.\n"
          ]
        }
      ]
    },
    {
      "cell_type": "code",
      "metadata": {
        "id": "-y1xnrtG1OZe"
      },
      "source": [
        "import tensorflow as tf\n",
        "\n",
        "import pandas as pd"
      ],
      "execution_count": 24,
      "outputs": []
    },
    {
      "cell_type": "code",
      "metadata": {
        "id": "u15lzUMq1Wbf"
      },
      "source": [
        "CSV_COLUMN_NAMES = ['SepalLength', 'SepalWidth', 'PetalLength', 'PetalWidth', 'Species']\n",
        "SPECIES = ['Setosa', 'Versicolor', 'Virginica'] #Define constants"
      ],
      "execution_count": 25,
      "outputs": []
    },
    {
      "cell_type": "code",
      "metadata": {
        "id": "UR5PNRL5OUWI"
      },
      "source": [
        "train_path = tf.keras.utils.get_file(\n",
        "    \"iris_training.csv\", \"https://storage.googleapis.com/download.tensorflow.org/data/iris_training.csv\")\n",
        "test_path = tf.keras.utils.get_file(\n",
        "    \"iris_test.csv\", \"https://storage.googleapis.com/download.tensorflow.org/data/iris_test.csv\")\n",
        "train = pd.read_csv(train_path, names=CSV_COLUMN_NAMES, header=0)\n",
        "test = pd.read_csv(test_path, names=CSV_COLUMN_NAMES, header=0) #Keras (TF module) used to grab datasets and read them into PD"
      ],
      "execution_count": 26,
      "outputs": []
    },
    {
      "cell_type": "code",
      "metadata": {
        "colab": {
          "base_uri": "https://localhost:8080/",
          "height": 204
        },
        "id": "Acsu8Z4-QDhr",
        "outputId": "1df28fcb-2797-4a8d-cfd3-c4c9345de33c"
      },
      "source": [
        "train.head()"
      ],
      "execution_count": 27,
      "outputs": [
        {
          "output_type": "execute_result",
          "data": {
            "text/html": [
              "<div>\n",
              "<style scoped>\n",
              "    .dataframe tbody tr th:only-of-type {\n",
              "        vertical-align: middle;\n",
              "    }\n",
              "\n",
              "    .dataframe tbody tr th {\n",
              "        vertical-align: top;\n",
              "    }\n",
              "\n",
              "    .dataframe thead th {\n",
              "        text-align: right;\n",
              "    }\n",
              "</style>\n",
              "<table border=\"1\" class=\"dataframe\">\n",
              "  <thead>\n",
              "    <tr style=\"text-align: right;\">\n",
              "      <th></th>\n",
              "      <th>SepalLength</th>\n",
              "      <th>SepalWidth</th>\n",
              "      <th>PetalLength</th>\n",
              "      <th>PetalWidth</th>\n",
              "      <th>Species</th>\n",
              "    </tr>\n",
              "  </thead>\n",
              "  <tbody>\n",
              "    <tr>\n",
              "      <th>0</th>\n",
              "      <td>6.4</td>\n",
              "      <td>2.8</td>\n",
              "      <td>5.6</td>\n",
              "      <td>2.2</td>\n",
              "      <td>2</td>\n",
              "    </tr>\n",
              "    <tr>\n",
              "      <th>1</th>\n",
              "      <td>5.0</td>\n",
              "      <td>2.3</td>\n",
              "      <td>3.3</td>\n",
              "      <td>1.0</td>\n",
              "      <td>1</td>\n",
              "    </tr>\n",
              "    <tr>\n",
              "      <th>2</th>\n",
              "      <td>4.9</td>\n",
              "      <td>2.5</td>\n",
              "      <td>4.5</td>\n",
              "      <td>1.7</td>\n",
              "      <td>2</td>\n",
              "    </tr>\n",
              "    <tr>\n",
              "      <th>3</th>\n",
              "      <td>4.9</td>\n",
              "      <td>3.1</td>\n",
              "      <td>1.5</td>\n",
              "      <td>0.1</td>\n",
              "      <td>0</td>\n",
              "    </tr>\n",
              "    <tr>\n",
              "      <th>4</th>\n",
              "      <td>5.7</td>\n",
              "      <td>3.8</td>\n",
              "      <td>1.7</td>\n",
              "      <td>0.3</td>\n",
              "      <td>0</td>\n",
              "    </tr>\n",
              "  </tbody>\n",
              "</table>\n",
              "</div>"
            ],
            "text/plain": [
              "   SepalLength  SepalWidth  PetalLength  PetalWidth  Species\n",
              "0          6.4         2.8          5.6         2.2        2\n",
              "1          5.0         2.3          3.3         1.0        1\n",
              "2          4.9         2.5          4.5         1.7        2\n",
              "3          4.9         3.1          1.5         0.1        0\n",
              "4          5.7         3.8          1.7         0.3        0"
            ]
          },
          "metadata": {},
          "execution_count": 27
        }
      ]
    },
    {
      "cell_type": "code",
      "metadata": {
        "colab": {
          "base_uri": "https://localhost:8080/",
          "height": 204
        },
        "id": "wdtNgjv_UkLw",
        "outputId": "1b231688-33fa-4521-ca2c-883632cd6586"
      },
      "source": [
        "train_y = train.pop('Species')\n",
        "test_y = test.pop('Species')\n",
        "train.head() #'pop' the species column off to use as label"
      ],
      "execution_count": 28,
      "outputs": [
        {
          "output_type": "execute_result",
          "data": {
            "text/html": [
              "<div>\n",
              "<style scoped>\n",
              "    .dataframe tbody tr th:only-of-type {\n",
              "        vertical-align: middle;\n",
              "    }\n",
              "\n",
              "    .dataframe tbody tr th {\n",
              "        vertical-align: top;\n",
              "    }\n",
              "\n",
              "    .dataframe thead th {\n",
              "        text-align: right;\n",
              "    }\n",
              "</style>\n",
              "<table border=\"1\" class=\"dataframe\">\n",
              "  <thead>\n",
              "    <tr style=\"text-align: right;\">\n",
              "      <th></th>\n",
              "      <th>SepalLength</th>\n",
              "      <th>SepalWidth</th>\n",
              "      <th>PetalLength</th>\n",
              "      <th>PetalWidth</th>\n",
              "    </tr>\n",
              "  </thead>\n",
              "  <tbody>\n",
              "    <tr>\n",
              "      <th>0</th>\n",
              "      <td>6.4</td>\n",
              "      <td>2.8</td>\n",
              "      <td>5.6</td>\n",
              "      <td>2.2</td>\n",
              "    </tr>\n",
              "    <tr>\n",
              "      <th>1</th>\n",
              "      <td>5.0</td>\n",
              "      <td>2.3</td>\n",
              "      <td>3.3</td>\n",
              "      <td>1.0</td>\n",
              "    </tr>\n",
              "    <tr>\n",
              "      <th>2</th>\n",
              "      <td>4.9</td>\n",
              "      <td>2.5</td>\n",
              "      <td>4.5</td>\n",
              "      <td>1.7</td>\n",
              "    </tr>\n",
              "    <tr>\n",
              "      <th>3</th>\n",
              "      <td>4.9</td>\n",
              "      <td>3.1</td>\n",
              "      <td>1.5</td>\n",
              "      <td>0.1</td>\n",
              "    </tr>\n",
              "    <tr>\n",
              "      <th>4</th>\n",
              "      <td>5.7</td>\n",
              "      <td>3.8</td>\n",
              "      <td>1.7</td>\n",
              "      <td>0.3</td>\n",
              "    </tr>\n",
              "  </tbody>\n",
              "</table>\n",
              "</div>"
            ],
            "text/plain": [
              "   SepalLength  SepalWidth  PetalLength  PetalWidth\n",
              "0          6.4         2.8          5.6         2.2\n",
              "1          5.0         2.3          3.3         1.0\n",
              "2          4.9         2.5          4.5         1.7\n",
              "3          4.9         3.1          1.5         0.1\n",
              "4          5.7         3.8          1.7         0.3"
            ]
          },
          "metadata": {},
          "execution_count": 28
        }
      ]
    },
    {
      "cell_type": "code",
      "metadata": {
        "colab": {
          "base_uri": "https://localhost:8080/"
        },
        "id": "jSVvTv48VAKP",
        "outputId": "6b98f142-f2a9-4409-bf7a-fd7819ef0565"
      },
      "source": [
        "train.shape #120 entries with 4 features"
      ],
      "execution_count": 29,
      "outputs": [
        {
          "output_type": "execute_result",
          "data": {
            "text/plain": [
              "(120, 4)"
            ]
          },
          "metadata": {},
          "execution_count": 29
        }
      ]
    },
    {
      "cell_type": "code",
      "metadata": {
        "colab": {
          "base_uri": "https://localhost:8080/"
        },
        "id": "G6d_Nq4TVKVo",
        "outputId": "d940db7e-0786-4cef-8a93-5290d863cdde"
      },
      "source": [
        "train_y.head()"
      ],
      "execution_count": 30,
      "outputs": [
        {
          "output_type": "execute_result",
          "data": {
            "text/plain": [
              "0    2\n",
              "1    1\n",
              "2    2\n",
              "3    0\n",
              "4    0\n",
              "Name: Species, dtype: int64"
            ]
          },
          "metadata": {},
          "execution_count": 30
        }
      ]
    },
    {
      "cell_type": "code",
      "metadata": {
        "id": "f2Tt0rR3VSEI"
      },
      "source": [
        "#Input Function\n",
        "\n",
        "def input_fn(features, labels, training=True, batch_size=256): #convert the inputs to a dataset\n",
        "    dataset = tf.data.Dataset.from_tensor_slices((dict(features), labels))\n",
        "\n",
        "#Shuffle and repeat if you are in training mode\n",
        "    if training:\n",
        "      dataset = dataset.shuffle(1000).repeat()\n",
        "    return dataset.batch(batch_size)"
      ],
      "execution_count": 31,
      "outputs": []
    },
    {
      "cell_type": "code",
      "metadata": {
        "colab": {
          "base_uri": "https://localhost:8080/"
        },
        "id": "VD0EssZEWLa_",
        "outputId": "de6b3a72-febf-4635-9c2d-c5b969b44a4a"
      },
      "source": [
        "#Feature Columns - describe how to use the input\n",
        "\n",
        "my_feature_columns = []\n",
        "for key in train.keys():\n",
        "  my_feature_columns.append(tf.feature_column.numeric_column(key=key))\n",
        "print(my_feature_columns)"
      ],
      "execution_count": 32,
      "outputs": [
        {
          "output_type": "stream",
          "name": "stdout",
          "text": [
            "[NumericColumn(key='SepalLength', shape=(1,), default_value=None, dtype=tf.float32, normalizer_fn=None), NumericColumn(key='SepalWidth', shape=(1,), default_value=None, dtype=tf.float32, normalizer_fn=None), NumericColumn(key='PetalLength', shape=(1,), default_value=None, dtype=tf.float32, normalizer_fn=None), NumericColumn(key='PetalWidth', shape=(1,), default_value=None, dtype=tf.float32, normalizer_fn=None)]\n"
          ]
        }
      ]
    },
    {
      "cell_type": "code",
      "metadata": {
        "colab": {
          "base_uri": "https://localhost:8080/"
        },
        "id": "JsmORiy5XeHx",
        "outputId": "479897a2-93e8-49e3-ec00-48598e1cabc0"
      },
      "source": [
        "#Building the Model - Classification Model\n",
        "#DNNClassifeier (Deep Neural Network...may not be linear correspondence in data)\n",
        "#LinearClassifier (Classification rather than regression, labels, probability)\n",
        "#Build a DNN with 2 hidden layers with 30 and 10 hidden nodes each\n",
        "\n",
        "classifier = tf.estimator.DNNClassifier(\n",
        "    feature_columns=my_feature_columns,\n",
        "    #Two hidden layers of 30 and 10 nodes respectively (Hidden Layers build architecture of Neural Network)...Input Layer, Hidden Layer, Output Layer\n",
        "    hidden_units=[30, 10],\n",
        "    n_classes=3) #3 classes for the flowers"
      ],
      "execution_count": 33,
      "outputs": [
        {
          "output_type": "stream",
          "name": "stdout",
          "text": [
            "INFO:tensorflow:Using default config.\n",
            "WARNING:tensorflow:Using temporary folder as model directory: /tmp/tmp2_oumgcq\n",
            "INFO:tensorflow:Using config: {'_model_dir': '/tmp/tmp2_oumgcq', '_tf_random_seed': None, '_save_summary_steps': 100, '_save_checkpoints_steps': None, '_save_checkpoints_secs': 600, '_session_config': allow_soft_placement: true\n",
            "graph_options {\n",
            "  rewrite_options {\n",
            "    meta_optimizer_iterations: ONE\n",
            "  }\n",
            "}\n",
            ", '_keep_checkpoint_max': 5, '_keep_checkpoint_every_n_hours': 10000, '_log_step_count_steps': 100, '_train_distribute': None, '_device_fn': None, '_protocol': None, '_eval_distribute': None, '_experimental_distribute': None, '_experimental_max_worker_delay_secs': None, '_session_creation_timeout_secs': 7200, '_checkpoint_save_graph_def': True, '_service': None, '_cluster_spec': ClusterSpec({}), '_task_type': 'worker', '_task_id': 0, '_global_id_in_cluster': 0, '_master': '', '_evaluation_master': '', '_is_chief': True, '_num_ps_replicas': 0, '_num_worker_replicas': 1}\n"
          ]
        }
      ]
    },
    {
      "cell_type": "code",
      "metadata": {
        "colab": {
          "base_uri": "https://localhost:8080/"
        },
        "id": "_SMmtxNQaMZ-",
        "outputId": "e212c1af-6f59-42ad-b9e8-19f1569dfd2c"
      },
      "source": [
        "#Training the Model\n",
        "#lambda anonymous function defined in one line (after colon is what function does, one line function here)\n",
        "\n",
        "classifier.train(\n",
        "    input_fn=lambda: input_fn(train, train_y, training=True),\n",
        "    steps=5000)"
      ],
      "execution_count": 34,
      "outputs": [
        {
          "output_type": "stream",
          "name": "stdout",
          "text": [
            "INFO:tensorflow:Calling model_fn.\n",
            "WARNING:tensorflow:From /usr/local/lib/python3.7/dist-packages/keras/optimizer_v2/adagrad.py:84: calling Constant.__init__ (from tensorflow.python.ops.init_ops) with dtype is deprecated and will be removed in a future version.\n",
            "Instructions for updating:\n",
            "Call initializer instance with the dtype argument instead of passing it to the constructor\n",
            "INFO:tensorflow:Done calling model_fn.\n",
            "INFO:tensorflow:Create CheckpointSaverHook.\n",
            "INFO:tensorflow:Graph was finalized.\n",
            "INFO:tensorflow:Running local_init_op.\n",
            "INFO:tensorflow:Done running local_init_op.\n",
            "INFO:tensorflow:Calling checkpoint listeners before saving checkpoint 0...\n",
            "INFO:tensorflow:Saving checkpoints for 0 into /tmp/tmp2_oumgcq/model.ckpt.\n",
            "INFO:tensorflow:Calling checkpoint listeners after saving checkpoint 0...\n",
            "INFO:tensorflow:loss = 1.46164, step = 0\n",
            "INFO:tensorflow:global_step/sec: 422.723\n",
            "INFO:tensorflow:loss = 1.0821763, step = 100 (0.242 sec)\n",
            "INFO:tensorflow:global_step/sec: 478.484\n",
            "INFO:tensorflow:loss = 1.039747, step = 200 (0.209 sec)\n",
            "INFO:tensorflow:global_step/sec: 503.556\n",
            "INFO:tensorflow:loss = 0.9923842, step = 300 (0.196 sec)\n",
            "INFO:tensorflow:global_step/sec: 441.714\n",
            "INFO:tensorflow:loss = 0.9768605, step = 400 (0.227 sec)\n",
            "INFO:tensorflow:global_step/sec: 467.56\n",
            "INFO:tensorflow:loss = 0.94303787, step = 500 (0.218 sec)\n",
            "INFO:tensorflow:global_step/sec: 509.514\n",
            "INFO:tensorflow:loss = 0.91965175, step = 600 (0.192 sec)\n",
            "INFO:tensorflow:global_step/sec: 491.902\n",
            "INFO:tensorflow:loss = 0.901689, step = 700 (0.206 sec)\n",
            "INFO:tensorflow:global_step/sec: 490.009\n",
            "INFO:tensorflow:loss = 0.887208, step = 800 (0.204 sec)\n",
            "INFO:tensorflow:global_step/sec: 497.325\n",
            "INFO:tensorflow:loss = 0.86619043, step = 900 (0.202 sec)\n",
            "INFO:tensorflow:global_step/sec: 472.33\n",
            "INFO:tensorflow:loss = 0.8574757, step = 1000 (0.208 sec)\n",
            "INFO:tensorflow:global_step/sec: 502.118\n",
            "INFO:tensorflow:loss = 0.83058035, step = 1100 (0.201 sec)\n",
            "INFO:tensorflow:global_step/sec: 502.476\n",
            "INFO:tensorflow:loss = 0.8093071, step = 1200 (0.201 sec)\n",
            "INFO:tensorflow:global_step/sec: 490.047\n",
            "INFO:tensorflow:loss = 0.7983761, step = 1300 (0.205 sec)\n",
            "INFO:tensorflow:global_step/sec: 494.482\n",
            "INFO:tensorflow:loss = 0.7685713, step = 1400 (0.198 sec)\n",
            "INFO:tensorflow:global_step/sec: 439.54\n",
            "INFO:tensorflow:loss = 0.7476489, step = 1500 (0.228 sec)\n",
            "INFO:tensorflow:global_step/sec: 503.771\n",
            "INFO:tensorflow:loss = 0.7330749, step = 1600 (0.198 sec)\n",
            "INFO:tensorflow:global_step/sec: 499.978\n",
            "INFO:tensorflow:loss = 0.7050059, step = 1700 (0.200 sec)\n",
            "INFO:tensorflow:global_step/sec: 493.481\n",
            "INFO:tensorflow:loss = 0.69997466, step = 1800 (0.204 sec)\n",
            "INFO:tensorflow:global_step/sec: 507.34\n",
            "INFO:tensorflow:loss = 0.6914115, step = 1900 (0.198 sec)\n",
            "WARNING:tensorflow:It seems that global step (tf.train.get_global_step) has not been increased. Current value (could be stable): 1962 vs previous value: 1962. You could increase the global step by passing tf.train.get_global_step() to Optimizer.apply_gradients or Optimizer.minimize.\n",
            "INFO:tensorflow:global_step/sec: 473.361\n",
            "INFO:tensorflow:loss = 0.6688228, step = 2000 (0.211 sec)\n",
            "INFO:tensorflow:global_step/sec: 468.314\n",
            "INFO:tensorflow:loss = 0.6639113, step = 2100 (0.211 sec)\n",
            "INFO:tensorflow:global_step/sec: 497.941\n",
            "INFO:tensorflow:loss = 0.6470613, step = 2200 (0.204 sec)\n",
            "INFO:tensorflow:global_step/sec: 504.288\n",
            "INFO:tensorflow:loss = 0.6361113, step = 2300 (0.195 sec)\n",
            "INFO:tensorflow:global_step/sec: 475.776\n",
            "INFO:tensorflow:loss = 0.6410847, step = 2400 (0.210 sec)\n",
            "INFO:tensorflow:global_step/sec: 481.875\n",
            "INFO:tensorflow:loss = 0.62422645, step = 2500 (0.213 sec)\n",
            "INFO:tensorflow:global_step/sec: 450.395\n",
            "INFO:tensorflow:loss = 0.61922836, step = 2600 (0.219 sec)\n",
            "INFO:tensorflow:global_step/sec: 491.214\n",
            "INFO:tensorflow:loss = 0.6055263, step = 2700 (0.204 sec)\n",
            "INFO:tensorflow:global_step/sec: 494.223\n",
            "INFO:tensorflow:loss = 0.59890664, step = 2800 (0.203 sec)\n",
            "INFO:tensorflow:global_step/sec: 493.421\n",
            "INFO:tensorflow:loss = 0.5925432, step = 2900 (0.206 sec)\n",
            "INFO:tensorflow:global_step/sec: 515.448\n",
            "INFO:tensorflow:loss = 0.5846807, step = 3000 (0.188 sec)\n",
            "INFO:tensorflow:global_step/sec: 492.507\n",
            "INFO:tensorflow:loss = 0.5828332, step = 3100 (0.203 sec)\n",
            "INFO:tensorflow:global_step/sec: 493.272\n",
            "INFO:tensorflow:loss = 0.5661022, step = 3200 (0.203 sec)\n",
            "INFO:tensorflow:global_step/sec: 499.387\n",
            "INFO:tensorflow:loss = 0.5711868, step = 3300 (0.205 sec)\n",
            "INFO:tensorflow:global_step/sec: 439.115\n",
            "INFO:tensorflow:loss = 0.5562992, step = 3400 (0.227 sec)\n",
            "INFO:tensorflow:global_step/sec: 501.335\n",
            "INFO:tensorflow:loss = 0.5585932, step = 3500 (0.199 sec)\n",
            "INFO:tensorflow:global_step/sec: 481.639\n",
            "INFO:tensorflow:loss = 0.5340167, step = 3600 (0.208 sec)\n",
            "INFO:tensorflow:global_step/sec: 482.256\n",
            "INFO:tensorflow:loss = 0.5287912, step = 3700 (0.207 sec)\n",
            "INFO:tensorflow:global_step/sec: 474.931\n",
            "INFO:tensorflow:loss = 0.53590405, step = 3800 (0.208 sec)\n",
            "INFO:tensorflow:global_step/sec: 481.109\n",
            "INFO:tensorflow:loss = 0.5264977, step = 3900 (0.211 sec)\n",
            "INFO:tensorflow:global_step/sec: 487.821\n",
            "INFO:tensorflow:loss = 0.5137638, step = 4000 (0.201 sec)\n",
            "INFO:tensorflow:global_step/sec: 470.978\n",
            "INFO:tensorflow:loss = 0.50583565, step = 4100 (0.212 sec)\n",
            "INFO:tensorflow:global_step/sec: 483.382\n",
            "INFO:tensorflow:loss = 0.5059544, step = 4200 (0.208 sec)\n",
            "INFO:tensorflow:global_step/sec: 463.569\n",
            "INFO:tensorflow:loss = 0.4952097, step = 4300 (0.218 sec)\n",
            "INFO:tensorflow:global_step/sec: 463.649\n",
            "INFO:tensorflow:loss = 0.4909513, step = 4400 (0.216 sec)\n",
            "INFO:tensorflow:global_step/sec: 514.524\n",
            "INFO:tensorflow:loss = 0.49674094, step = 4500 (0.191 sec)\n",
            "INFO:tensorflow:global_step/sec: 509.85\n",
            "INFO:tensorflow:loss = 0.48621073, step = 4600 (0.199 sec)\n",
            "INFO:tensorflow:global_step/sec: 506.694\n",
            "INFO:tensorflow:loss = 0.48995146, step = 4700 (0.197 sec)\n",
            "INFO:tensorflow:global_step/sec: 471.5\n",
            "INFO:tensorflow:loss = 0.48397225, step = 4800 (0.212 sec)\n",
            "INFO:tensorflow:global_step/sec: 497.242\n",
            "INFO:tensorflow:loss = 0.4597021, step = 4900 (0.202 sec)\n",
            "INFO:tensorflow:Calling checkpoint listeners before saving checkpoint 5000...\n",
            "INFO:tensorflow:Saving checkpoints for 5000 into /tmp/tmp2_oumgcq/model.ckpt.\n",
            "INFO:tensorflow:Calling checkpoint listeners after saving checkpoint 5000...\n",
            "INFO:tensorflow:Loss for final step: 0.48154783.\n"
          ]
        },
        {
          "output_type": "execute_result",
          "data": {
            "text/plain": [
              "<tensorflow_estimator.python.estimator.canned.dnn.DNNClassifierV2 at 0x7f6c824ea910>"
            ]
          },
          "metadata": {},
          "execution_count": 34
        }
      ]
    },
    {
      "cell_type": "code",
      "metadata": {
        "colab": {
          "base_uri": "https://localhost:8080/"
        },
        "id": "F9pTZab4p7k7",
        "outputId": "7206a100-cea9-419a-93e5-170672ab0f21"
      },
      "source": [
        "eval_result = classifier.evaluate(input_fn=lambda: input_fn(test, test_y, training=False))"
      ],
      "execution_count": 37,
      "outputs": [
        {
          "output_type": "stream",
          "name": "stdout",
          "text": [
            "INFO:tensorflow:Calling model_fn.\n",
            "INFO:tensorflow:Done calling model_fn.\n",
            "INFO:tensorflow:Starting evaluation at 2021-10-27T16:54:07\n",
            "INFO:tensorflow:Graph was finalized.\n",
            "INFO:tensorflow:Restoring parameters from /tmp/tmp2_oumgcq/model.ckpt-5000\n",
            "INFO:tensorflow:Running local_init_op.\n",
            "INFO:tensorflow:Done running local_init_op.\n",
            "INFO:tensorflow:Inference Time : 0.22198s\n",
            "INFO:tensorflow:Finished evaluation at 2021-10-27-16:54:07\n",
            "INFO:tensorflow:Saving dict for global step 5000: accuracy = 0.8, average_loss = 0.5546199, global_step = 5000, loss = 0.5546199\n",
            "INFO:tensorflow:Saving 'checkpoint_path' summary for global step 5000: /tmp/tmp2_oumgcq/model.ckpt-5000\n"
          ]
        }
      ]
    },
    {
      "cell_type": "code",
      "metadata": {
        "colab": {
          "base_uri": "https://localhost:8080/"
        },
        "id": "XNu6ZKizqK9f",
        "outputId": "430943f2-49bb-4199-8ef9-7d92fca97971"
      },
      "source": [
        "print('\\nTest set accuracy: {accuracy:0.3f} \\n'.format(**eval_result))"
      ],
      "execution_count": 38,
      "outputs": [
        {
          "output_type": "stream",
          "name": "stdout",
          "text": [
            "\n",
            "Test set accuracy: 0.800 \n",
            "\n"
          ]
        }
      ]
    },
    {
      "cell_type": "code",
      "metadata": {
        "colab": {
          "base_uri": "https://localhost:8080/"
        },
        "id": "0Jak1ZlTqya4",
        "outputId": "074f3fbf-bff1-48f5-ecac-20276f22c3df"
      },
      "source": [
        "#Predictions\n",
        "#Convert inputs to a dataset without labels\n",
        "\n",
        "def input_fn(features, batch_size=256):\n",
        "    return tf.data.Dataset.from_tensor_slices(dict(features)).batch(batch_size) #create dataset from those features, dict, followed by batch size (no y value/labels, won't know the label, model provides answer.)\n",
        "\n",
        "features = ['SepalLength', 'SepalWidth', 'PetalLength', 'PetalWidth']\n",
        "predict = {}\n",
        "\n",
        "print(\"Please type numeric values as prompted.\")\n",
        "for feature in features:\n",
        "  valid = True\n",
        "  while valid:  #for each feature, wait to get some valid response\n",
        "    val = input(feature + \": \") \n",
        "    if not val.isdigit(): valid = False\n",
        "\n",
        "  predict[feature] = [float(val)] #add to dictionary once we get valid response, predicting whatever feature is equal to a list (whatever value was)  Predict method works on multiple things and needs to be placed in the list\n",
        "\n",
        "predictions = classifier.predict(input_fn=lambda: input_fn(predict))\n",
        "for pred_dict in predictions:  #every prediction comes back as a dictionary, \n",
        "  class_id = pred_dict['class_ids'][0] #class id is equal to class ID dictionary at 0\n",
        "  probability = pred_dict['probabilities'][class_id] #probability equal to pred dict 'probs' of class id\n",
        "\n",
        "  print('Prediction is \"{}\" ({:.1f}%))'.format(\n",
        "      SPECIES[class_id], 100 * probability) #100 * for integer value\n",
        "  )"
      ],
      "execution_count": 44,
      "outputs": [
        {
          "output_type": "stream",
          "name": "stdout",
          "text": [
            "Please type numeric values as prompted.\n",
            "SepalLength: 2.4\n",
            "SepalWidth: 2.6\n",
            "PetalLength: 6.5\n",
            "PetalWidth: 6.3\n",
            "INFO:tensorflow:Calling model_fn.\n",
            "INFO:tensorflow:Done calling model_fn.\n",
            "INFO:tensorflow:Graph was finalized.\n",
            "INFO:tensorflow:Restoring parameters from /tmp/tmp2_oumgcq/model.ckpt-5000\n",
            "INFO:tensorflow:Running local_init_op.\n",
            "INFO:tensorflow:Done running local_init_op.\n",
            "Prediction is \"Virginica\" (97.3%))\n"
          ]
        }
      ]
    }
  ]
}